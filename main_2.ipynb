{
 "cells": [
  {
   "cell_type": "code",
   "execution_count": 1,
   "id": "8290bd58-9b37-4ebe-89b1-0f1faea91d34",
   "metadata": {},
   "outputs": [
    {
     "name": "stdout",
     "output_type": "stream",
     "text": [
      "WARNING:tensorflow:From C:\\Users\\Hp\\anaconda3\\envs\\newenv\\Lib\\site-packages\\keras\\src\\losses.py:2976: The name tf.losses.sparse_softmax_cross_entropy is deprecated. Please use tf.compat.v1.losses.sparse_softmax_cross_entropy instead.\n",
      "\n"
     ]
    }
   ],
   "source": [
    "import tensorflow as tf\n",
    "from tensorflow.keras import layers, models\n",
    "from tensorflow.keras.optimizers import Adam\n",
    "from tensorflow.keras.preprocessing.image import ImageDataGenerator"
   ]
  },
  {
   "cell_type": "code",
   "execution_count": 3,
   "id": "9fa257e7-ed76-40e8-be54-56c80cd76ad6",
   "metadata": {},
   "outputs": [],
   "source": [
    "model = tf.keras.models.Sequential([\n",
    "    tf.keras.layers.Conv2D(32, (3, 3), activation='relu', input_shape=(150, 150, 3)),\n",
    "    tf.keras.layers.MaxPooling2D(2, 2),\n",
    "    \n",
    "    tf.keras.layers.Conv2D(64, (3, 3), activation='relu'),\n",
    "    tf.keras.layers.MaxPooling2D(2, 2),\n",
    "    \n",
    "    tf.keras.layers.Conv2D(128, (3, 3), activation='relu'),\n",
    "    tf.keras.layers.MaxPooling2D(2, 2),\n",
    "    \n",
    "    tf.keras.layers.Conv2D(128, (3, 3), activation='relu'),\n",
    "    tf.keras.layers.MaxPooling2D(2, 2),\n",
    "    \n",
    "    tf.keras.layers.Flatten(),\n",
    "    \n",
    "    tf.keras.layers.Dense(512, activation='relu'),\n",
    "    tf.keras.layers.Dropout(0.5),\n",
    "    tf.keras.layers.Dense(2, activation='softmax')\n",
    "])"
   ]
  },
  {
   "cell_type": "code",
   "execution_count": 20,
   "id": "367e093a-dc2b-440c-b3c2-bf83c826160b",
   "metadata": {},
   "outputs": [],
   "source": [
    "model.add(tf.keras.layers.Dropout(0.5))\n",
    "from tensorflow.keras.optimizers import RMSprop\n",
    "from tensorflow.keras.callbacks import LearningRateScheduler\n",
    "\n",
    "def scheduler(epoch, lr):\n",
    "    if epoch < 10:\n",
    "        return lr\n",
    "    else:\n",
    "        return lr * tf.math.exp(-0.1)\n",
    "\n",
    "learning_rate_scheduler = LearningRateScheduler(scheduler)\n",
    "optimizer = RMSprop(learning_rate=0.001)\n"
   ]
  },
  {
   "cell_type": "code",
   "execution_count": 21,
   "id": "fedea618-7997-426c-94e4-fc756066d63d",
   "metadata": {},
   "outputs": [],
   "source": [
    "train_datagen = ImageDataGenerator(\n",
    "    rescale=1./255,\n",
    "    rotation_range=40,\n",
    "    width_shift_range=0.2,\n",
    "    height_shift_range=0.2,\n",
    "    shear_range=0.2,\n",
    "    zoom_range=0.2,\n",
    "    horizontal_flip=True,\n",
    "    fill_mode='nearest'\n",
    ")\n",
    "\n",
    "validation_datagen = ImageDataGenerator(rescale=1./255)"
   ]
  },
  {
   "cell_type": "code",
   "execution_count": 22,
   "id": "7ecda81d-6722-496b-9eeb-226ecc0e569a",
   "metadata": {},
   "outputs": [
    {
     "name": "stdout",
     "output_type": "stream",
     "text": [
      "Found 8 images belonging to 2 classes.\n",
      "Found 8 images belonging to 2 classes.\n"
     ]
    }
   ],
   "source": [
    "TRAINING_DIR = r'C:\\Users\\Hp\\Downloads\\VW_AI\\dataset\\train'\n",
    "train_generator = train_datagen.flow_from_directory(\n",
    "    TRAINING_DIR,\n",
    "    target_size=(150, 150),\n",
    "    class_mode='categorical',\n",
    "    batch_size=32\n",
    ")\n",
    "\n",
    "VALIDATION_DIR = r'C:\\Users\\Hp\\Downloads\\VW_AI\\dataset\\validation'\n",
    "validation_generator = validation_datagen.flow_from_directory(\n",
    "    VALIDATION_DIR,\n",
    "    target_size=(150, 150),\n",
    "    class_mode='categorical',\n",
    "    batch_size=32\n",
    ")"
   ]
  },
  {
   "cell_type": "code",
   "execution_count": 23,
   "id": "e8aca5bc-805b-410d-ae2c-3faec4900466",
   "metadata": {},
   "outputs": [
    {
     "name": "stdout",
     "output_type": "stream",
     "text": [
      "Epoch 1/25\n",
      "1/1 [==============================] - 1s 763ms/step - loss: nan - accuracy: 0.5000 - val_loss: 0.7501 - val_accuracy: 0.3750\n",
      "Epoch 2/25\n",
      "1/1 [==============================] - 1s 554ms/step - loss: nan - accuracy: 0.3750 - val_loss: 0.9169 - val_accuracy: 0.5000\n",
      "Epoch 3/25\n",
      "1/1 [==============================] - 1s 642ms/step - loss: nan - accuracy: 0.5000 - val_loss: 0.9169 - val_accuracy: 0.5000\n",
      "Epoch 4/25\n",
      "1/1 [==============================] - 1s 790ms/step - loss: nan - accuracy: 0.5000 - val_loss: 1.0444 - val_accuracy: 0.5000\n",
      "Epoch 5/25\n",
      "1/1 [==============================] - 1s 731ms/step - loss: nan - accuracy: 0.5000 - val_loss: 1.0444 - val_accuracy: 0.5000\n",
      "Epoch 6/25\n",
      "1/1 [==============================] - 1s 780ms/step - loss: nan - accuracy: 0.5000 - val_loss: 1.0444 - val_accuracy: 0.5000\n",
      "Epoch 7/25\n",
      "1/1 [==============================] - 1s 796ms/step - loss: nan - accuracy: 0.5000 - val_loss: 1.0444 - val_accuracy: 0.5000\n",
      "Epoch 8/25\n",
      "1/1 [==============================] - 1s 771ms/step - loss: nan - accuracy: 0.5000 - val_loss: 1.0444 - val_accuracy: 0.5000\n",
      "Epoch 9/25\n",
      "1/1 [==============================] - 1s 784ms/step - loss: nan - accuracy: 0.6250 - val_loss: 1.0444 - val_accuracy: 0.5000\n",
      "Epoch 10/25\n",
      "1/1 [==============================] - 1s 785ms/step - loss: nan - accuracy: 0.5000 - val_loss: 1.0444 - val_accuracy: 0.5000\n",
      "Epoch 11/25\n",
      "1/1 [==============================] - 1s 770ms/step - loss: nan - accuracy: 0.3750 - val_loss: 1.0444 - val_accuracy: 0.5000\n",
      "Epoch 12/25\n",
      "1/1 [==============================] - 1s 779ms/step - loss: nan - accuracy: 0.5000 - val_loss: 1.0444 - val_accuracy: 0.5000\n",
      "Epoch 13/25\n",
      "1/1 [==============================] - 1s 742ms/step - loss: nan - accuracy: 0.5000 - val_loss: 1.0444 - val_accuracy: 0.5000\n",
      "Epoch 14/25\n",
      "1/1 [==============================] - 1s 774ms/step - loss: nan - accuracy: 0.5000 - val_loss: 1.0444 - val_accuracy: 0.5000\n",
      "Epoch 15/25\n",
      "1/1 [==============================] - 1s 731ms/step - loss: nan - accuracy: 0.5000 - val_loss: 1.0444 - val_accuracy: 0.5000\n",
      "Epoch 16/25\n",
      "1/1 [==============================] - 1s 808ms/step - loss: nan - accuracy: 0.5000 - val_loss: 1.0444 - val_accuracy: 0.5000\n",
      "Epoch 17/25\n",
      "1/1 [==============================] - 1s 796ms/step - loss: nan - accuracy: 0.3750 - val_loss: 1.0444 - val_accuracy: 0.5000\n",
      "Epoch 18/25\n",
      "1/1 [==============================] - 1s 819ms/step - loss: nan - accuracy: 0.6250 - val_loss: 1.0444 - val_accuracy: 0.5000\n",
      "Epoch 19/25\n",
      "1/1 [==============================] - 1s 705ms/step - loss: nan - accuracy: 0.7500 - val_loss: 1.2857 - val_accuracy: 0.5000\n",
      "Epoch 20/25\n",
      "1/1 [==============================] - 1s 560ms/step - loss: nan - accuracy: 0.3750 - val_loss: 1.0470 - val_accuracy: 0.5000\n",
      "Epoch 21/25\n",
      "1/1 [==============================] - 1s 704ms/step - loss: nan - accuracy: 0.5000 - val_loss: 1.0470 - val_accuracy: 0.5000\n",
      "Epoch 22/25\n",
      "1/1 [==============================] - 1s 550ms/step - loss: nan - accuracy: 0.5000 - val_loss: 1.0470 - val_accuracy: 0.5000\n",
      "Epoch 23/25\n",
      "1/1 [==============================] - 1s 570ms/step - loss: nan - accuracy: 0.5000 - val_loss: 1.0470 - val_accuracy: 0.5000\n",
      "Epoch 24/25\n",
      "1/1 [==============================] - 1s 653ms/step - loss: nan - accuracy: 0.6250 - val_loss: 1.0470 - val_accuracy: 0.5000\n",
      "Epoch 25/25\n",
      "1/1 [==============================] - 1s 513ms/step - loss: nan - accuracy: 0.3750 - val_loss: 1.0881 - val_accuracy: 0.5000\n"
     ]
    }
   ],
   "source": [
    "history = model.fit(\n",
    "    train_generator,\n",
    "    epochs=25,\n",
    "    steps_per_epoch=len(train_generator),\n",
    "    validation_data=validation_generator,\n",
    "    validation_steps=len(validation_generator)\n",
    ")"
   ]
  },
  {
   "cell_type": "code",
   "execution_count": 24,
   "id": "7e7ab65e-1d41-4a4d-b8b8-9a6db9eeddb2",
   "metadata": {},
   "outputs": [
    {
     "name": "stdout",
     "output_type": "stream",
     "text": [
      "1/1 [==============================] - 0s 348ms/step - loss: 1.0881 - accuracy: 0.5000\n",
      "Test accuracy: 50.00%\n"
     ]
    }
   ],
   "source": [
    "loss, accuracy = model.evaluate(validation_generator)\n",
    "print(f'Test accuracy: {accuracy * 100:.2f}%')"
   ]
  },
  {
   "cell_type": "code",
   "execution_count": null,
   "id": "9b67cccc-edb0-40df-ae73-fd96bec9d7b6",
   "metadata": {},
   "outputs": [],
   "source": []
  }
 ],
 "metadata": {
  "kernelspec": {
   "display_name": "Python 3 (ipykernel)",
   "language": "python",
   "name": "python3"
  },
  "language_info": {
   "codemirror_mode": {
    "name": "ipython",
    "version": 3
   },
   "file_extension": ".py",
   "mimetype": "text/x-python",
   "name": "python",
   "nbconvert_exporter": "python",
   "pygments_lexer": "ipython3",
   "version": "3.11.7"
  }
 },
 "nbformat": 4,
 "nbformat_minor": 5
}

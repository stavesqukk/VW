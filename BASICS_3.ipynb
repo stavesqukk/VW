{
 "cells": [
  {
   "cell_type": "code",
   "execution_count": 1,
   "id": "e748c6d1-9732-4860-aa15-fc2ed117f4f5",
   "metadata": {},
   "outputs": [],
   "source": [
    "import numpy as np\n",
    "from PIL import Image\n",
    "from sklearn.model_selection import train_test_split\n",
    "import tensorflow as tf\n",
    "from tensorflow.keras.preprocessing.image import ImageDataGenerator\n",
    "from tensorflow.keras import layers, models\n",
    "from tensorflow.keras.optimizers import RMSprop\n",
    "from tensorflow.keras.layers import BatchNormalization, Dropout\n",
    "from tensorflow.keras.callbacks import LearningRateScheduler, EarlyStopping"
   ]
  },
  {
   "cell_type": "code",
   "execution_count": 2,
   "id": "b29f7286-c419-42d7-9816-cefb94ae5487",
   "metadata": {},
   "outputs": [],
   "source": [
    "def load_and_preprocess_image(img_path):\n",
    "    image = np.array(Image.open(img_path).resize((100, 100))) / 255.0\n",
    "    return image\n",
    "\n",
    "def lr_schedule(epoch):\n",
    "    lr = 0.0001\n",
    "    if epoch > 10:\n",
    "        lr *= 0.1\n",
    "    elif epoch > 20:\n",
    "        lr *= 0.01\n",
    "    return lr"
   ]
  },
  {
   "cell_type": "code",
   "execution_count": 3,
   "id": "8a0e6359-306e-4f85-92a4-ccf8f055723b",
   "metadata": {},
   "outputs": [],
   "source": [
    "tops_images = [\"Womens Surrealistic Themes Funny Summer Plus Size T-Shirts - 2 _ L.jpg\", \"Mens Astronaut Shooting Cartoon Print Crew Neck Short Sleeve T-Shirts - Khaki _ XL.jpg\",\n",
    "               \"T-shirt Women Funny Cartoon Short Sleeve Streetwear - FuD 4127 bai _ M.jpg\", \"Breathable Solid Color round Neck Short Sleeve Cotton T-Shirts.jpg\",\n",
    "               \"Vossiy Graphic Tees Men Fashion Print T-Shirts Unisex Cotton Tee Hipster Casual Streetwear Loose Summer Tee Top.jpg\"]\n",
    "\n",
    "bottoms_images = [\"download (1).jpg\",\"Women's Designer Denim _ Moda Operandi.jpg\",\"Designer Wide-Leg Jeans for Women.jpg\",\"Jacquemus Fashion Collections For Women _ Moda Operandi.jpg\",\n",
    "                 \"download.jpg\"]"
   ]
  },
  {
   "cell_type": "code",
   "execution_count": 4,
   "id": "b7ed32df-b8d2-4a23-95d5-18595c14a939",
   "metadata": {},
   "outputs": [],
   "source": [
    "labels = [0] * len(tops_images) + [1] * len(bottoms_images)"
   ]
  },
  {
   "cell_type": "code",
   "execution_count": 5,
   "id": "e6d708a1-5f27-40ef-a8ea-47ada46d890e",
   "metadata": {},
   "outputs": [],
   "source": [
    "images_train, images_test, labels_train, labels_test = train_test_split(\n",
    "    tops_images + bottoms_images, labels, test_size=0.2, random_state=42\n",
    ")\n",
    "\n",
    "images_train = np.array([load_and_preprocess_image(img) for img in images_train])\n",
    "labels_train = np.array(labels_train, dtype=np.float32)"
   ]
  },
  {
   "cell_type": "code",
   "execution_count": 6,
   "id": "30db125f-079d-4b77-8485-ff322cddffd4",
   "metadata": {},
   "outputs": [],
   "source": [
    "datagen = ImageDataGenerator(\n",
    "    rotation_range=20,\n",
    "    width_shift_range=0.2,\n",
    "    height_shift_range=0.2,\n",
    "    shear_range=0.2,\n",
    "    zoom_range=0.2,\n",
    "    horizontal_flip=True,\n",
    "    fill_mode='nearest'\n",
    ")\n",
    "\n",
    "augmented_train_data = []\n",
    "for img, label in zip(images_train, labels_train):\n",
    "    img_array = np.expand_dims(img, axis=0)\n",
    "    augmented_images = [datagen.random_transform(img_array[0]) for _ in range(16)]\n",
    "    augmented_train_data.extend([(augmented_image, label) for augmented_image in augmented_images])\n",
    "\n",
    "augmented_train_data = np.array(augmented_train_data, dtype=object)\n",
    "images_train_augmented = np.array([item[0] for item in augmented_train_data], dtype=np.float32)\n",
    "labels_train_augmented = np.array([item[1] for item in augmented_train_data], dtype=np.float32)"
   ]
  },
  {
   "cell_type": "code",
   "execution_count": 7,
   "id": "ff5a97f5-3d5a-4cb6-a635-ee557c10793b",
   "metadata": {},
   "outputs": [],
   "source": [
    "model = models.Sequential()\n",
    "model.add(layers.Conv2D(32, (3, 3), activation='relu', input_shape=(100, 100, 3)))\n",
    "model.add(BatchNormalization())\n",
    "model.add(layers.MaxPooling2D((2, 2)))\n",
    "model.add(layers.Conv2D(64, (3, 3), activation='relu'))\n",
    "model.add(BatchNormalization())\n",
    "model.add(layers.MaxPooling2D((2, 2)))\n",
    "model.add(layers.Conv2D(128, (3, 3), activation='relu'))\n",
    "model.add(BatchNormalization())\n",
    "model.add(layers.MaxPooling2D((2, 2)))\n",
    "model.add(layers.Flatten())\n",
    "model.add(Dropout(0.5))\n",
    "model.add(layers.Dense(256, activation='relu'))\n",
    "model.add(BatchNormalization())\n",
    "model.add(Dropout(0.5))\n",
    "model.add(layers.Dense(1, activation='sigmoid'))"
   ]
  },
  {
   "cell_type": "code",
   "execution_count": 19,
   "id": "b0c194e3-7faa-4070-a5bb-c26fcba974ff",
   "metadata": {},
   "outputs": [
    {
     "ename": "NameError",
     "evalue": "name 'Adam' is not defined",
     "output_type": "error",
     "traceback": [
      "\u001b[1;31m---------------------------------------------------------------------------\u001b[0m",
      "\u001b[1;31mNameError\u001b[0m                                 Traceback (most recent call last)",
      "Cell \u001b[1;32mIn[19], line 1\u001b[0m\n\u001b[1;32m----> 1\u001b[0m model\u001b[38;5;241m.\u001b[39mcompile(optimizer\u001b[38;5;241m=\u001b[39m\u001b[43mAdam\u001b[49m(learning_rate\u001b[38;5;241m=\u001b[39m\u001b[38;5;241m0.0001\u001b[39m), \n\u001b[0;32m      2\u001b[0m               loss\u001b[38;5;241m=\u001b[39m\u001b[38;5;124m'\u001b[39m\u001b[38;5;124mbinary_crossentropy\u001b[39m\u001b[38;5;124m'\u001b[39m, \n\u001b[0;32m      3\u001b[0m               metrics\u001b[38;5;241m=\u001b[39m[\u001b[38;5;124m'\u001b[39m\u001b[38;5;124maccuracy\u001b[39m\u001b[38;5;124m'\u001b[39m])\n",
      "\u001b[1;31mNameError\u001b[0m: name 'Adam' is not defined"
     ]
    }
   ],
   "source": [
    "model.compile(optimizer=Adam(learning_rate=0.0001), \n",
    "              loss='binary_crossentropy', \n",
    "              metrics=['accuracy'])"
   ]
  },
  {
   "cell_type": "code",
   "execution_count": 18,
   "id": "ed334ed7-e4f4-412b-8a1c-213c8734ef95",
   "metadata": {},
   "outputs": [],
   "source": [
    "callbacks = [\n",
    "    EarlyStopping(monitor='val_loss', patience=5, restore_best_weights=True),\n",
    "    LearningRateScheduler(lr_schedule)\n",
    "]"
   ]
  },
  {
   "cell_type": "code",
   "execution_count": 17,
   "id": "2d9300d0-f3a4-4ca9-b092-1b9e2ce94fe0",
   "metadata": {},
   "outputs": [
    {
     "name": "stdout",
     "output_type": "stream",
     "text": [
      "Epoch 1/30\n",
      "4/4 [==============================] - 1s 242ms/step - loss: 0.0417 - accuracy: 0.9902 - val_loss: 0.6701 - val_accuracy: 0.8846 - lr: 1.0000e-04\n",
      "Epoch 2/30\n",
      "4/4 [==============================] - 1s 205ms/step - loss: 0.0697 - accuracy: 0.9902 - val_loss: 0.7066 - val_accuracy: 0.3846 - lr: 1.0000e-04\n",
      "Epoch 3/30\n",
      "4/4 [==============================] - 1s 226ms/step - loss: 0.0509 - accuracy: 1.0000 - val_loss: 0.7145 - val_accuracy: 0.3846 - lr: 1.0000e-04\n",
      "Epoch 4/30\n",
      "4/4 [==============================] - 1s 232ms/step - loss: 0.0222 - accuracy: 0.9902 - val_loss: 0.7323 - val_accuracy: 0.3846 - lr: 1.0000e-04\n",
      "Epoch 5/30\n",
      "4/4 [==============================] - 1s 248ms/step - loss: 0.0221 - accuracy: 1.0000 - val_loss: 0.8002 - val_accuracy: 0.3846 - lr: 1.0000e-04\n",
      "Epoch 6/30\n",
      "4/4 [==============================] - 1s 213ms/step - loss: 0.0257 - accuracy: 1.0000 - val_loss: 0.7389 - val_accuracy: 0.3846 - lr: 1.0000e-04\n"
     ]
    }
   ],
   "source": [
    "history = model.fit(images_train_augmented, labels_train_augmented, \n",
    "                    epochs=30, batch_size=32, \n",
    "                    validation_split=0.2, callbacks=callbacks)"
   ]
  },
  {
   "cell_type": "code",
   "execution_count": 16,
   "id": "0a06b146-c862-4a64-98be-cd54c55d6a2b",
   "metadata": {},
   "outputs": [
    {
     "ename": "AttributeError",
     "evalue": "'numpy.ndarray' object has no attribute 'read'",
     "output_type": "error",
     "traceback": [
      "\u001b[1;31m---------------------------------------------------------------------------\u001b[0m",
      "\u001b[1;31mAttributeError\u001b[0m                            Traceback (most recent call last)",
      "File \u001b[1;32m~\\anaconda3\\envs\\myenv\\lib\\site-packages\\PIL\\Image.py:3231\u001b[0m, in \u001b[0;36mopen\u001b[1;34m(fp, mode, formats)\u001b[0m\n\u001b[0;32m   3230\u001b[0m \u001b[38;5;28;01mtry\u001b[39;00m:\n\u001b[1;32m-> 3231\u001b[0m     \u001b[43mfp\u001b[49m\u001b[38;5;241;43m.\u001b[39;49m\u001b[43mseek\u001b[49m(\u001b[38;5;241m0\u001b[39m)\n\u001b[0;32m   3232\u001b[0m \u001b[38;5;28;01mexcept\u001b[39;00m (\u001b[38;5;167;01mAttributeError\u001b[39;00m, io\u001b[38;5;241m.\u001b[39mUnsupportedOperation):\n",
      "\u001b[1;31mAttributeError\u001b[0m: 'numpy.ndarray' object has no attribute 'seek'",
      "\nDuring handling of the above exception, another exception occurred:\n",
      "\u001b[1;31mAttributeError\u001b[0m                            Traceback (most recent call last)",
      "Cell \u001b[1;32mIn[16], line 1\u001b[0m\n\u001b[1;32m----> 1\u001b[0m images_test \u001b[38;5;241m=\u001b[39m np\u001b[38;5;241m.\u001b[39marray([load_and_preprocess_image(img) \u001b[38;5;28;01mfor\u001b[39;00m img \u001b[38;5;129;01min\u001b[39;00m images_test])\n\u001b[0;32m      2\u001b[0m labels_test \u001b[38;5;241m=\u001b[39m np\u001b[38;5;241m.\u001b[39marray(labels_test, dtype\u001b[38;5;241m=\u001b[39mnp\u001b[38;5;241m.\u001b[39mfloat32)\n\u001b[0;32m      4\u001b[0m test_loss, test_accuracy \u001b[38;5;241m=\u001b[39m model\u001b[38;5;241m.\u001b[39mevaluate(images_test, labels_test)\n",
      "Cell \u001b[1;32mIn[16], line 1\u001b[0m, in \u001b[0;36m<listcomp>\u001b[1;34m(.0)\u001b[0m\n\u001b[1;32m----> 1\u001b[0m images_test \u001b[38;5;241m=\u001b[39m np\u001b[38;5;241m.\u001b[39marray([\u001b[43mload_and_preprocess_image\u001b[49m\u001b[43m(\u001b[49m\u001b[43mimg\u001b[49m\u001b[43m)\u001b[49m \u001b[38;5;28;01mfor\u001b[39;00m img \u001b[38;5;129;01min\u001b[39;00m images_test])\n\u001b[0;32m      2\u001b[0m labels_test \u001b[38;5;241m=\u001b[39m np\u001b[38;5;241m.\u001b[39marray(labels_test, dtype\u001b[38;5;241m=\u001b[39mnp\u001b[38;5;241m.\u001b[39mfloat32)\n\u001b[0;32m      4\u001b[0m test_loss, test_accuracy \u001b[38;5;241m=\u001b[39m model\u001b[38;5;241m.\u001b[39mevaluate(images_test, labels_test)\n",
      "Cell \u001b[1;32mIn[2], line 2\u001b[0m, in \u001b[0;36mload_and_preprocess_image\u001b[1;34m(img_path)\u001b[0m\n\u001b[0;32m      1\u001b[0m \u001b[38;5;28;01mdef\u001b[39;00m \u001b[38;5;21mload_and_preprocess_image\u001b[39m(img_path):\n\u001b[1;32m----> 2\u001b[0m     image \u001b[38;5;241m=\u001b[39m np\u001b[38;5;241m.\u001b[39marray(\u001b[43mImage\u001b[49m\u001b[38;5;241;43m.\u001b[39;49m\u001b[43mopen\u001b[49m\u001b[43m(\u001b[49m\u001b[43mimg_path\u001b[49m\u001b[43m)\u001b[49m\u001b[38;5;241m.\u001b[39mresize((\u001b[38;5;241m100\u001b[39m, \u001b[38;5;241m100\u001b[39m))) \u001b[38;5;241m/\u001b[39m \u001b[38;5;241m255.0\u001b[39m\n\u001b[0;32m      3\u001b[0m     \u001b[38;5;28;01mreturn\u001b[39;00m image\n",
      "File \u001b[1;32m~\\anaconda3\\envs\\myenv\\lib\\site-packages\\PIL\\Image.py:3233\u001b[0m, in \u001b[0;36mopen\u001b[1;34m(fp, mode, formats)\u001b[0m\n\u001b[0;32m   3231\u001b[0m     fp\u001b[38;5;241m.\u001b[39mseek(\u001b[38;5;241m0\u001b[39m)\n\u001b[0;32m   3232\u001b[0m \u001b[38;5;28;01mexcept\u001b[39;00m (\u001b[38;5;167;01mAttributeError\u001b[39;00m, io\u001b[38;5;241m.\u001b[39mUnsupportedOperation):\n\u001b[1;32m-> 3233\u001b[0m     fp \u001b[38;5;241m=\u001b[39m io\u001b[38;5;241m.\u001b[39mBytesIO(\u001b[43mfp\u001b[49m\u001b[38;5;241;43m.\u001b[39;49m\u001b[43mread\u001b[49m())\n\u001b[0;32m   3234\u001b[0m     exclusive_fp \u001b[38;5;241m=\u001b[39m \u001b[38;5;28;01mTrue\u001b[39;00m\n\u001b[0;32m   3236\u001b[0m prefix \u001b[38;5;241m=\u001b[39m fp\u001b[38;5;241m.\u001b[39mread(\u001b[38;5;241m16\u001b[39m)\n",
      "\u001b[1;31mAttributeError\u001b[0m: 'numpy.ndarray' object has no attribute 'read'"
     ]
    }
   ],
   "source": [
    "images_test = np.array([load_and_preprocess_image(img) for img in images_test])\n",
    "labels_test = np.array(labels_test, dtype=np.float32)\n",
    "\n",
    "test_loss, test_accuracy = model.evaluate(images_test, labels_test)\n",
    "print(f\"Test Accuracy: {test_accuracy * 100:.2f}%\")"
   ]
  },
  {
   "cell_type": "code",
   "execution_count": 15,
   "id": "63f5efbd-c846-45d8-b66a-342d634592f9",
   "metadata": {},
   "outputs": [
    {
     "data": {
      "image/png": "[encoded data removed]",
      "text/plain": [
       "<Figure size 640x480 with 1 Axes>"
      ]
     },
     "metadata": {},
     "output_type": "display_data"
    }
   ],
   "source": [
    "import matplotlib.pyplot as plt\n",
    "\n",
    "plt.plot(history.history['accuracy'], label='Training Accuracy')\n",
    "plt.plot(history.history['val_accuracy'], label='Validation Accuracy')\n",
    "plt.xlabel('Epoch')\n",
    "plt.ylabel('Accuracy')\n",
    "plt.legend()\n",
    "plt.show()"
   ]
  },
  {
   "cell_type": "code",
   "execution_count": null,
   "id": "c16e0706-59d6-4bdc-9d3d-949cd6e4a307",
   "metadata": {},
   "outputs": [],
   "source": []
  }
 ],
 "metadata": {
  "kernelspec": {
   "display_name": "Python 3 (ipykernel)",
   "language": "python",
   "name": "python3"
  },
  "language_info": {
   "codemirror_mode": {
    "name": "ipython",
    "version": 3
   },
   "file_extension": ".py",
   "mimetype": "text/x-python",
   "name": "python",
   "nbconvert_exporter": "python",
   "pygments_lexer": "ipython3",
   "version": "3.10.13"
  }
 },
 "nbformat": 4,
 "nbformat_minor": 5
}

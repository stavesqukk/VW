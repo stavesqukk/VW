{
 "cells": [
  {
   "cell_type": "code",
   "execution_count": 1,
   "id": "415218dd-a574-4456-894a-0363646d672c",
   "metadata": {},
   "outputs": [
    {
     "name": "stdout",
     "output_type": "stream",
     "text": [
      "WARNING:tensorflow:From C:\\Users\\Hp\\anaconda3\\envs\\newenv\\Lib\\site-packages\\keras\\src\\losses.py:2976: The name tf.losses.sparse_softmax_cross_entropy is deprecated. Please use tf.compat.v1.losses.sparse_softmax_cross_entropy instead.\n",
      "\n"
     ]
    }
   ],
   "source": [
    "import tensorflow as tf\n",
    "from tensorflow.keras import layers, models, optimizers"
   ]
  },
  {
   "cell_type": "code",
   "execution_count": 16,
   "id": "7d314dab-7cae-4da8-a07e-21f3b965ea19",
   "metadata": {},
   "outputs": [],
   "source": [
    "\n",
    "class MyImageClassifier:\n",
    "    def __init__(self):\n",
    "        self.model = self.build_model()\n",
    "        self.loss_object = tf.keras.losses.SparseCategoricalCrossentropy(from_logits=True)\n",
    "        self.optimizer = tf.keras.optimizers.Adam()\n",
    "        self.train_loss = tf.keras.metrics.Mean(name='train_loss')\n",
    "        self.train_accuracy = tf.keras.metrics.SparseCategoricalAccuracy(name='train_accuracy')\n",
    "        self.test_loss = tf.keras.metrics.Mean(name='test_loss')\n",
    "        self.test_accuracy = tf.keras.metrics.SparseCategoricalAccuracy(name='test_accuracy')\n",
    "\n",
    "    def build_model(self):\n",
    "        model = models.Sequential()\n",
    "        # Add your model architecture layers here\n",
    "        # For example:\n",
    "        model.add(layers.Conv2D(32, (3, 3), activation='relu', input_shape=(128, 128, 3)))\n",
    "        model.add(layers.MaxPooling2D((2, 2)))\n",
    "        model.add(layers.Flatten())\n",
    "        model.add(layers.Dense(64, activation='relu'))\n",
    "        model.add(layers.Dense(2))  # Assuming 2 classes (male and female)\n",
    "\n",
    "        return model\n",
    "\n",
    "    @tf.function\n",
    "    def train_step(self, images, labels):\n",
    "        with tf.GradientTape() as tape:\n",
    "            predictions = self.model(images, training=True)\n",
    "            loss = self.loss_object(labels, predictions)\n",
    "        gradients = tape.gradient(loss, self.model.trainable_variables)\n",
    "        self.optimizer.apply_gradients(zip(gradients, self.model.trainable_variables))\n",
    "\n",
    "        self.train_loss(loss)\n",
    "        self.train_accuracy(labels, predictions)\n",
    "\n",
    "    @tf.function\n",
    "    def test_step(self, images, labels):\n",
    "        predictions = self.model(images, training=False)\n",
    "        t_loss = self.loss_object(labels, predictions)\n",
    "\n",
    "        self.test_loss(t_loss)\n",
    "        self.test_accuracy(labels, predictions)\n",
    "\n",
    "    def train_model(self, train_dataset, test_dataset, epochs):\n",
    "        for epoch in range(epochs):\n",
    "            self.train_loss.reset_states()\n",
    "            self.train_accuracy.reset_states()\n",
    "            self.test_loss.reset_states()\n",
    "            self.test_accuracy.reset_states()\n",
    "\n",
    "            for images, labels in train_dataset:\n",
    "                self.train_step(images, labels)\n",
    "\n",
    "            for test_images, test_labels in test_dataset:\n",
    "                self.test_step(test_images, test_labels)\n",
    "\n",
    "            print(\n",
    "                f'Epoch {epoch + 1}, '\n",
    "                f'Loss: {self.train_loss.result()}, '\n",
    "                f'Accuracy: {self.train_accuracy.result() * 100}, '\n",
    "                f'Test Loss: {self.test_loss.result()}, '\n",
    "                f'Test Accuracy: {self.test_accuracy.result() * 100}'\n",
    "            )\n"
   ]
  },
  {
   "cell_type": "code",
   "execution_count": 21,
   "id": "38eb47fb-59b1-436d-9460-2dd742d5988c",
   "metadata": {},
   "outputs": [
    {
     "name": "stdout",
     "output_type": "stream",
     "text": [
      "Found 8 images belonging to 2 classes.\n"
     ]
    }
   ],
   "source": [
    "from tensorflow.keras.preprocessing.image import ImageDataGenerator\n",
    "\n",
    "# Create an ImageDataGenerator with data augmentation\n",
    "datagen = ImageDataGenerator(\n",
    "    rescale=1./255,\n",
    "    rotation_range=20,\n",
    "    width_shift_range=0.2,\n",
    "    height_shift_range=0.2,\n",
    "    shear_range=0.2,\n",
    "    zoom_range=0.2,\n",
    "    horizontal_flip=True,\n",
    "    fill_mode='nearest'\n",
    ")\n",
    "\n",
    "# Use the generator to load and augment the images\n",
    "train_dataset_augmented = datagen.flow_from_directory(\n",
    "    r'C:\\Users\\Hp\\Downloads\\VW_AI\\dataset\\train',\n",
    "    target_size=(128, 128),\n",
    "    batch_size=32,\n",
    "    class_mode='binary'  # Change to 'categorical' if you have more than two classes\n",
    ")\n"
   ]
  },
  {
   "cell_type": "code",
   "execution_count": 22,
   "id": "ed3fd4e6-3c5e-47e9-9c1c-c4aba6b12204",
   "metadata": {},
   "outputs": [
    {
     "name": "stdout",
     "output_type": "stream",
     "text": [
      "Found 8 files belonging to 2 classes.\n",
      "Found 8 files belonging to 2 classes.\n"
     ]
    }
   ],
   "source": [
    "train_path = r'C:\\Users\\Hp\\Downloads\\VW_AI\\dataset\\train'\n",
    "test_path = r'C:\\Users\\Hp\\Downloads\\VW_AI\\dataset\\validation'\n",
    "\n",
    "# Create train dataset\n",
    "train_dataset = tf.keras.preprocessing.image_dataset_from_directory(\n",
    "    train_path,\n",
    "    image_size=(128, 128),\n",
    "    batch_size=32\n",
    ")\n",
    "\n",
    "# Create test dataset\n",
    "test_dataset = tf.keras.preprocessing.image_dataset_from_directory(\n",
    "    test_path,\n",
    "    image_size=(128, 128),\n",
    "    batch_size=32\n",
    ")\n",
    "\n",
    "# Normalize pixel values to be between 0 and 1\n",
    "train_dataset = train_dataset.map(lambda x, y: (x / 255.0, y))\n",
    "test_dataset = test_dataset.map(lambda x, y: (x / 255.0, y))\n"
   ]
  },
  {
   "cell_type": "code",
   "execution_count": 23,
   "id": "1067e630-3b66-4a0e-817a-986ba4b20955",
   "metadata": {},
   "outputs": [
    {
     "name": "stdout",
     "output_type": "stream",
     "text": [
      "Epoch 1, Loss: 0.7015434503555298, Accuracy: 50.0, Test Loss: 7.113512992858887, Test Accuracy: 50.0\n",
      "Epoch 2, Loss: 7.132041931152344, Accuracy: 50.0, Test Loss: 8.265257835388184, Test Accuracy: 50.0\n",
      "Epoch 3, Loss: 7.8975372314453125, Accuracy: 50.0, Test Loss: 8.492708206176758, Test Accuracy: 50.0\n",
      "Epoch 4, Loss: 7.757011890411377, Accuracy: 50.0, Test Loss: 5.6743669509887695, Test Accuracy: 50.0\n",
      "Epoch 5, Loss: 4.935980796813965, Accuracy: 50.0, Test Loss: 1.8645808696746826, Test Accuracy: 50.0\n"
     ]
    }
   ],
   "source": [
    "# Instantiate the classifier\n",
    "classifier = MyImageClassifier()\n",
    "\n",
    "# Train the model\n",
    "classifier.train_model(train_dataset, test_dataset, epochs=5)"
   ]
  },
  {
   "cell_type": "code",
   "execution_count": null,
   "id": "0cb5dcda-3ec9-465b-b138-b5f4d581fa3e",
   "metadata": {},
   "outputs": [],
   "source": []
  }
 ],
 "metadata": {
  "kernelspec": {
   "display_name": "Python 3 (ipykernel)",
   "language": "python",
   "name": "python3"
  },
  "language_info": {
   "codemirror_mode": {
    "name": "ipython",
    "version": 3
   },
   "file_extension": ".py",
   "mimetype": "text/x-python",
   "name": "python",
   "nbconvert_exporter": "python",
   "pygments_lexer": "ipython3",
   "version": "3.11.7"
  }
 },
 "nbformat": 4,
 "nbformat_minor": 5
}

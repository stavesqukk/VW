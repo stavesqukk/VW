{
 "cells": [
  {
   "cell_type": "code",
   "execution_count": 1,
   "id": "a060dd2c-a427-41ff-ac09-405f17ea3709",
   "metadata": {},
   "outputs": [
    {
     "name": "stdout",
     "output_type": "stream",
     "text": [
      "WARNING:tensorflow:From C:\\Users\\Hp\\anaconda3\\envs\\newenv\\Lib\\site-packages\\keras\\src\\losses.py:2976: The name tf.losses.sparse_softmax_cross_entropy is deprecated. Please use tf.compat.v1.losses.sparse_softmax_cross_entropy instead.\n",
      "\n"
     ]
    }
   ],
   "source": [
    "import tensorflow as tf\n",
    "from tensorflow.keras import layers, models\n",
    "from tensorflow.keras.preprocessing.image import ImageDataGenerator\n",
    "import matplotlib.pyplot as plt"
   ]
  },
  {
   "cell_type": "code",
   "execution_count": 2,
   "id": "cd4603f9-2873-4721-8673-a7e9a451b2db",
   "metadata": {},
   "outputs": [
    {
     "name": "stdout",
     "output_type": "stream",
     "text": [
      "Found 8 images belonging to 2 classes.\n"
     ]
    }
   ],
   "source": [
    "dataset_path = r'C:\\Users\\Hp\\Downloads\\VW_AI\\dataset'\n",
    "img_size = (128, 128)\n",
    "batch_size = 32\n",
    "\n",
    "# Define data generators with data augmentation for training\n",
    "train_datagen = ImageDataGenerator(\n",
    "    rescale=1./255,\n",
    "    shear_range=0.2,\n",
    "    zoom_range=0.2,\n",
    "    horizontal_flip=True\n",
    ")\n",
    "\n",
    "train_generator = train_datagen.flow_from_directory(\n",
    "    dataset_path + '\\\\train\\\\',\n",
    "    target_size=img_size,\n",
    "    batch_size=batch_size,\n",
    "    class_mode='categorical'\n",
    ")"
   ]
  },
  {
   "cell_type": "code",
   "execution_count": 3,
   "id": "9f84cde7-3a46-460b-9945-0230ad6e11e6",
   "metadata": {},
   "outputs": [
    {
     "name": "stdout",
     "output_type": "stream",
     "text": [
      "Found 8 images belonging to 2 classes.\n"
     ]
    }
   ],
   "source": [
    "val_datagen = ImageDataGenerator(rescale=1./255)\n",
    "\n",
    "val_generator = val_datagen.flow_from_directory(\n",
    "    dataset_path + '\\\\validation\\\\',\n",
    "    target_size=img_size,\n",
    "    batch_size=batch_size,\n",
    "    class_mode='categorical'\n",
    ")"
   ]
  },
  {
   "cell_type": "code",
   "execution_count": 4,
   "id": "dba43056-1485-47f2-b601-ce645a1cd958",
   "metadata": {},
   "outputs": [
    {
     "name": "stdout",
     "output_type": "stream",
     "text": [
      "WARNING:tensorflow:From C:\\Users\\Hp\\anaconda3\\envs\\newenv\\Lib\\site-packages\\keras\\src\\backend.py:873: The name tf.get_default_graph is deprecated. Please use tf.compat.v1.get_default_graph instead.\n",
      "\n",
      "WARNING:tensorflow:From C:\\Users\\Hp\\anaconda3\\envs\\newenv\\Lib\\site-packages\\keras\\src\\layers\\pooling\\max_pooling2d.py:161: The name tf.nn.max_pool is deprecated. Please use tf.nn.max_pool2d instead.\n",
      "\n"
     ]
    }
   ],
   "source": [
    "model = models.Sequential()\n",
    "model.add(layers.Conv2D(32, (3, 3), activation='relu', input_shape=(img_size[0], img_size[1], 3)))\n",
    "model.add(layers.MaxPooling2D((2, 2)))\n",
    "model.add(layers.Conv2D(64, (3, 3), activation='relu'))\n",
    "model.add(layers.MaxPooling2D((2, 2)))\n",
    "model.add(layers.Conv2D(128, (3, 3), activation='relu'))\n",
    "model.add(layers.MaxPooling2D((2, 2)))\n",
    "model.add(layers.Flatten())\n",
    "model.add(layers.Dense(512, activation='relu'))\n",
    "model.add(layers.Dropout(0.5))\n",
    "model.add(layers.Dense(2, activation='softmax'))"
   ]
  },
  {
   "cell_type": "code",
   "execution_count": 5,
   "id": "a75a5d8a-02fe-4cbd-aa48-0a5c26c8aaac",
   "metadata": {},
   "outputs": [],
   "source": [
    "opt = tf.keras.optimizers.Adam(learning_rate=0.0001)\n",
    "model.compile(optimizer=opt, loss='categorical_crossentropy', metrics=['accuracy'])"
   ]
  },
  {
   "cell_type": "code",
   "execution_count": 6,
   "id": "37d8e706-1086-4d49-b84e-0eaec28a4fdc",
   "metadata": {},
   "outputs": [
    {
     "name": "stdout",
     "output_type": "stream",
     "text": [
      "Epoch 1/15\n",
      "WARNING:tensorflow:From C:\\Users\\Hp\\anaconda3\\envs\\newenv\\Lib\\site-packages\\keras\\src\\utils\\tf_utils.py:492: The name tf.ragged.RaggedTensorValue is deprecated. Please use tf.compat.v1.ragged.RaggedTensorValue instead.\n",
      "\n",
      "WARNING:tensorflow:From C:\\Users\\Hp\\anaconda3\\envs\\newenv\\Lib\\site-packages\\keras\\src\\engine\\base_layer_utils.py:384: The name tf.executing_eagerly_outside_functions is deprecated. Please use tf.compat.v1.executing_eagerly_outside_functions instead.\n",
      "\n",
      "1/1 [==============================] - 2s 2s/step - loss: 0.7189 - accuracy: 0.3750 - val_loss: 0.6845 - val_accuracy: 0.7500\n",
      "Epoch 2/15\n",
      "1/1 [==============================] - 1s 744ms/step - loss: 0.7050 - accuracy: 0.5000 - val_loss: 0.6776 - val_accuracy: 0.6250\n",
      "Epoch 3/15\n",
      "1/1 [==============================] - 1s 540ms/step - loss: 0.6936 - accuracy: 0.6250 - val_loss: 0.6679 - val_accuracy: 0.7500\n",
      "Epoch 4/15\n",
      "1/1 [==============================] - 0s 479ms/step - loss: 0.6358 - accuracy: 0.6250 - val_loss: 0.6639 - val_accuracy: 0.7500\n",
      "Epoch 5/15\n",
      "1/1 [==============================] - 1s 596ms/step - loss: 0.6567 - accuracy: 0.6250 - val_loss: 0.6583 - val_accuracy: 0.7500\n",
      "Epoch 6/15\n",
      "1/1 [==============================] - 1s 668ms/step - loss: 0.5775 - accuracy: 0.8750 - val_loss: 0.6516 - val_accuracy: 0.7500\n",
      "Epoch 7/15\n",
      "1/1 [==============================] - 1s 507ms/step - loss: 0.5184 - accuracy: 0.8750 - val_loss: 0.6458 - val_accuracy: 0.7500\n",
      "Epoch 8/15\n",
      "1/1 [==============================] - 0s 474ms/step - loss: 0.5489 - accuracy: 0.7500 - val_loss: 0.6428 - val_accuracy: 0.7500\n",
      "Epoch 9/15\n",
      "1/1 [==============================] - 1s 526ms/step - loss: 0.6211 - accuracy: 0.7500 - val_loss: 0.6424 - val_accuracy: 0.7500\n",
      "Epoch 10/15\n",
      "1/1 [==============================] - 1s 529ms/step - loss: 0.4980 - accuracy: 0.8750 - val_loss: 0.6434 - val_accuracy: 0.7500\n",
      "Epoch 11/15\n",
      "1/1 [==============================] - 1s 613ms/step - loss: 0.5105 - accuracy: 0.8750 - val_loss: 0.6465 - val_accuracy: 0.7500\n",
      "Epoch 12/15\n",
      "1/1 [==============================] - 1s 671ms/step - loss: 0.4621 - accuracy: 0.8750 - val_loss: 0.6503 - val_accuracy: 0.7500\n",
      "Epoch 13/15\n",
      "1/1 [==============================] - 1s 552ms/step - loss: 0.5223 - accuracy: 0.8750 - val_loss: 0.6584 - val_accuracy: 0.6250\n",
      "Epoch 14/15\n",
      "1/1 [==============================] - 1s 630ms/step - loss: 0.3753 - accuracy: 1.0000 - val_loss: 0.6732 - val_accuracy: 0.6250\n",
      "Epoch 15/15\n",
      "1/1 [==============================] - 1s 512ms/step - loss: 0.5371 - accuracy: 0.8750 - val_loss: 0.6847 - val_accuracy: 0.6250\n"
     ]
    }
   ],
   "source": [
    "# Train the model \n",
    "history = model.fit( \n",
    "    train_generator,\n",
    "    steps_per_epoch=len(train_generator),\n",
    "    epochs=15, \n",
    "    validation_data=val_generator,\n",
    "    validation_steps=len(val_generator))\n",
    "\n",
    "        "
   ]
  },
  {
   "cell_type": "code",
   "execution_count": 7,
   "id": "0849188e-f01c-433a-a7a3-ec2c509127c9",
   "metadata": {},
   "outputs": [
    {
     "name": "stdout",
     "output_type": "stream",
     "text": [
      "1/1 [==============================] - 0s 197ms/step - loss: 0.6847 - accuracy: 0.6250\n"
     ]
    },
    {
     "data": {
      "text/plain": [
       "[0.6847184896469116, 0.625]"
      ]
     },
     "execution_count": 7,
     "metadata": {},
     "output_type": "execute_result"
    }
   ],
   "source": [
    "model.evaluate(val_generator)"
   ]
  },
  {
   "cell_type": "code",
   "execution_count": 8,
   "id": "47091c90-8f36-4e74-ad7b-e11aab6a9787",
   "metadata": {},
   "outputs": [
    {
     "data": {
      "image/png": "[encoded data removed]",
      "text/plain": [
       "<Figure size 1200x400 with 2 Axes>"
      ]
     },
     "metadata": {},
     "output_type": "display_data"
    }
   ],
   "source": [
    "acc = history.history['accuracy']\n",
    "val_acc = history.history['val_accuracy']\n",
    "loss = history.history['loss']\n",
    "val_loss = history.history['val_loss']\n",
    "\n",
    "epochs = range(1, len(acc) + 1)\n",
    "\n",
    "plt.figure(figsize=(12, 4))\n",
    "plt.subplot(1, 2, 1)\n",
    "plt.plot(epochs, acc, 'bo', label='Training acc')\n",
    "plt.plot(epochs, val_acc, 'b', label='Validation acc')\n",
    "plt.title('Training and validation accuracy')\n",
    "plt.legend()\n",
    "\n",
    "plt.subplot(1, 2, 2)\n",
    "plt.plot(epochs, loss, 'bo', label='Training loss')\n",
    "plt.plot(epochs, val_loss, 'b', label='Validation loss')\n",
    "plt.title('Training and validation loss')\n",
    "plt.legend()\n",
    "\n",
    "plt.show()"
   ]
  },
  {
   "cell_type": "code",
   "execution_count": 9,
   "id": "cfa0719f-fb2a-443d-aea7-d6dec0c146fe",
   "metadata": {},
   "outputs": [
    {
     "name": "stdout",
     "output_type": "stream",
     "text": [
      "1/1 [==============================] - 0s 220ms/step - loss: 0.6847 - accuracy: 0.6250\n",
      "Validation Accuracy: 62.50%\n"
     ]
    }
   ],
   "source": [
    "# Evaluate the model\n",
    "loss, accuracy = model.evaluate(val_generator)\n",
    "print(f\"Validation Accuracy: {accuracy * 100:.2f}%\")"
   ]
  },
  {
   "cell_type": "code",
   "execution_count": null,
   "id": "a208b37e-e2cd-443f-ad8d-40a9128981cd",
   "metadata": {},
   "outputs": [],
   "source": []
  }
 ],
 "metadata": {
  "kernelspec": {
   "display_name": "Python 3 (ipykernel)",
   "language": "python",
   "name": "python3"
  },
  "language_info": {
   "codemirror_mode": {
    "name": "ipython",
    "version": 3
   },
   "file_extension": ".py",
   "mimetype": "text/x-python",
   "name": "python",
   "nbconvert_exporter": "python",
   "pygments_lexer": "ipython3",
   "version": "3.11.7"
  }
 },
 "nbformat": 4,
 "nbformat_minor": 5
}

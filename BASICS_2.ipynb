{
 "cells": [
  {
   "cell_type": "code",
   "execution_count": 17,
   "id": "b6f96a82",
   "metadata": {},
   "outputs": [],
   "source": [
    "import numpy as np\n",
    "from PIL import Image\n",
    "from sklearn.model_selection import train_test_split\n",
    "import tensorflow as tf\n",
    "from tensorflow.keras import layers, models"
   ]
  },
  {
   "cell_type": "code",
   "execution_count": 18,
   "id": "5a0049ec-69d7-4867-9ce5-bf1daab4c0e3",
   "metadata": {},
   "outputs": [],
   "source": [
    "def load_and_preprocess_image(img_path):\n",
    "    # Load and preprocess the image (replace this with your actual preprocessing logic)\n",
    "    image = load_image(img_path)\n",
    "    preprocessed_image = preprocess_image(image)\n",
    "    return preprocessed_image\n",
    "\n",
    "def preprocess_image(image):\n",
    "    # Resize the image to a specific size\n",
    "    return resize_image(image, target_size=(100, 100))\n",
    "\n",
    "def resize_image(image, target_size):\n",
    "    # Resize image using Pillow\n",
    "    return np.array(Image.fromarray(image).resize(target_size))\n"
   ]
  },
  {
   "cell_type": "code",
   "execution_count": 19,
   "id": "ced5fb94-570b-4372-a612-147fc417c3b0",
   "metadata": {},
   "outputs": [],
   "source": [
    "tops_images = [\"Womens Surrealistic Themes Funny Summer Plus Size T-Shirts - 2 _ L.jpg\", \"Mens Astronaut Shooting Cartoon Print Crew Neck Short Sleeve T-Shirts - Khaki _ XL.jpg\",\n",
    "               \"T-shirt Women Funny Cartoon Short Sleeve Streetwear - FuD 4127 bai _ M.jpg\", \"Breathable Solid Color round Neck Short Sleeve Cotton T-Shirts.jpg\",\n",
    "               \"Vossiy Graphic Tees Men Fashion Print T-Shirts Unisex Cotton Tee Hipster Casual Streetwear Loose Summer Tee Top.jpg\"]\n",
    "\n",
    "bottoms_images = [\"download (1).jpg\",\"Women's Designer Denim _ Moda Operandi.jpg\",\"Designer Wide-Leg Jeans for Women.jpg\",\"Jacquemus Fashion Collections For Women _ Moda Operandi.jpg\",\n",
    "                 \"download.jpg\"]\n"
   ]
  },
  {
   "cell_type": "code",
   "execution_count": 20,
   "id": "9b21d5e2-3905-40c0-aff2-8ffe111d52ec",
   "metadata": {},
   "outputs": [],
   "source": [
    "labels = [0] * len(tops_images) + [1] * len(bottoms_images)\n",
    "\n",
    "images_train, images_test, labels_train, labels_test = train_test_split(\n",
    "    tops_images + bottoms_images, labels, test_size=0.2, random_state=42\n",
    ")\n"
   ]
  },
  {
   "cell_type": "code",
   "execution_count": 21,
   "id": "87a3ef09-61e8-4268-80e0-e32b387c70df",
   "metadata": {},
   "outputs": [],
   "source": [
    "model = models.Sequential()\n",
    "model.add(layers.Conv2D(64, (3, 3), activation='relu', input_shape=(100, 100, 3)))\n",
    "model.add(layers.MaxPooling2D((2, 2)))\n",
    "model.add(layers.Conv2D(128, (3, 3), activation='relu'))\n",
    "model.add(layers.MaxPooling2D((2, 2)))\n",
    "model.add(layers.Flatten())\n",
    "model.add(layers.Dense(128, activation='relu'))\n",
    "model.add(layers.Dropout(0.5))  # Add dropout layer to prevent overfitting\n",
    "model.add(layers.Dense(1, activation='sigmoid'))\n"
   ]
  },
  {
   "cell_type": "code",
   "execution_count": 22,
   "id": "58ecb055-02e7-429a-a6a5-f6c5cec959ea",
   "metadata": {},
   "outputs": [],
   "source": [
    "model.compile(optimizer='adam', loss='binary_crossentropy', metrics=['accuracy'])"
   ]
  },
  {
   "cell_type": "code",
   "execution_count": 23,
   "id": "0b2d8cb4-ade0-4ade-9f01-e54bc48a4b0e",
   "metadata": {},
   "outputs": [],
   "source": [
    "images_train = np.array([load_and_preprocess_image(img) for img in images_train])\n",
    "labels_train = np.array(labels_train)"
   ]
  },
  {
   "cell_type": "code",
   "execution_count": 24,
   "id": "206ab624-28eb-409f-97de-ce2c6834e791",
   "metadata": {},
   "outputs": [
    {
     "name": "stdout",
     "output_type": "stream",
     "text": [
      "Epoch 1/5\n",
      "1/1 [==============================] - 1s 1s/step - loss: 38.5183 - accuracy: 0.5000 - val_loss: 1417.2823 - val_accuracy: 0.5000\n",
      "Epoch 2/5\n",
      "1/1 [==============================] - 0s 162ms/step - loss: 1444.9629 - accuracy: 0.5000 - val_loss: 609.4387 - val_accuracy: 0.5000\n",
      "Epoch 3/5\n",
      "1/1 [==============================] - 0s 163ms/step - loss: 552.9902 - accuracy: 0.5000 - val_loss: 31.6222 - val_accuracy: 0.5000\n",
      "Epoch 4/5\n",
      "1/1 [==============================] - 0s 168ms/step - loss: 29.9225 - accuracy: 0.6667 - val_loss: 168.4778 - val_accuracy: 0.5000\n",
      "Epoch 5/5\n",
      "1/1 [==============================] - 0s 156ms/step - loss: 97.9427 - accuracy: 0.6667 - val_loss: 108.0792 - val_accuracy: 0.5000\n",
      "1/1 [==============================] - 0s 54ms/step - loss: 111.6963 - accuracy: 0.5000\n",
      "Test Accuracy: 50.00%\n"
     ]
    }
   ],
   "source": [
    "# Train the model\n",
    "model.fit(images_train, labels_train, epochs=5, batch_size=32, validation_split=0.2)\n",
    "\n",
    "# Evaluate the model on the test set\n",
    "images_test = np.array([load_and_preprocess_image(img) for img in images_test])\n",
    "labels_test = np.array(labels_test)\n",
    "\n",
    "test_loss, test_accuracy = model.evaluate(images_test, labels_test)\n",
    "print(f\"Test Accuracy: {test_accuracy * 100:.2f}%\")"
   ]
  },
  {
   "cell_type": "code",
   "execution_count": null,
   "id": "548675d6-f127-434b-ace9-9b5ca1c9fc26",
   "metadata": {},
   "outputs": [],
   "source": []
  }
 ],
 "metadata": {
  "kernelspec": {
   "display_name": "Python 3 (ipykernel)",
   "language": "python",
   "name": "python3"
  },
  "language_info": {
   "codemirror_mode": {
    "name": "ipython",
    "version": 3
   },
   "file_extension": ".py",
   "mimetype": "text/x-python",
   "name": "python",
   "nbconvert_exporter": "python",
   "pygments_lexer": "ipython3",
   "version": "3.11.7"
  }
 },
 "nbformat": 4,
 "nbformat_minor": 5
}

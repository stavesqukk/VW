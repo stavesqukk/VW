{
 "cells": [
  {
   "cell_type": "code",
   "execution_count": 28,
   "id": "9c95a6e4-844f-42c2-ae3c-166b8fc6011f",
   "metadata": {},
   "outputs": [],
   "source": [
    "import numpy as np\n",
    "from PIL import Image\n",
    "from sklearn.model_selection import train_test_split\n",
    "import tensorflow as tf\n",
    "from tensorflow.keras.preprocessing.image import ImageDataGenerator\n",
    "from tensorflow.keras import layers, models\n",
    "from tensorflow.keras.optimizers import Adam\n",
    "from tensorflow.keras.layers import BatchNormalization, Dropout\n",
    "from tensorflow.keras.callbacks import LearningRateScheduler, EarlyStopping\n",
    "from tensorflow.keras.optimizers import RMSprop"
   ]
  },
  {
   "cell_type": "code",
   "execution_count": 29,
   "id": "1580d9e3-1e4d-47fb-9bd8-d8a89ae744e7",
   "metadata": {},
   "outputs": [],
   "source": [
    "def load_and_preprocess_image(img_path):\n",
    "    image = np.array(Image.open(img_path).resize((100, 100))) / 255.0\n",
    "    return image\n",
    "def lr_schedule(epoch):\n",
    "    lr = 0.0001\n",
    "    if epoch > 10:\n",
    "        lr *= 0.1\n",
    "    elif epoch > 20:\n",
    "        lr *= 0.01\n",
    "    return lr\n"
   ]
  },
  {
   "cell_type": "code",
   "execution_count": 3,
   "id": "b8b4c490-aecd-4170-8d87-a16fef080264",
   "metadata": {},
   "outputs": [],
   "source": [
    "tops_images = [\"Womens Surrealistic Themes Funny Summer Plus Size T-Shirts - 2 _ L.jpg\", \"Mens Astronaut Shooting Cartoon Print Crew Neck Short Sleeve T-Shirts - Khaki _ XL.jpg\",\n",
    "               \"T-shirt Women Funny Cartoon Short Sleeve Streetwear - FuD 4127 bai _ M.jpg\", \"Breathable Solid Color round Neck Short Sleeve Cotton T-Shirts.jpg\",\n",
    "               \"Vossiy Graphic Tees Men Fashion Print T-Shirts Unisex Cotton Tee Hipster Casual Streetwear Loose Summer Tee Top.jpg\"]\n",
    "\n",
    "bottoms_images = [\"download (1).jpg\",\"Women's Designer Denim _ Moda Operandi.jpg\",\"Designer Wide-Leg Jeans for Women.jpg\",\"Jacquemus Fashion Collections For Women _ Moda Operandi.jpg\",\n",
    "                 \"download.jpg\"]\n",
    "labels = [0] * len(tops_images) + [1] * len(bottoms_images)"
   ]
  },
  {
   "cell_type": "code",
   "execution_count": 4,
   "id": "47f8326a-f4f4-4d44-bdf5-4b38f1607446",
   "metadata": {},
   "outputs": [],
   "source": [
    "images_train, images_test, labels_train, labels_test = train_test_split(\n",
    "    tops_images + bottoms_images, labels, test_size=0.2, random_state=42\n",
    ")"
   ]
  },
  {
   "cell_type": "code",
   "execution_count": 5,
   "id": "31b32d2c-e49b-45ef-99ae-89611fc52091",
   "metadata": {},
   "outputs": [],
   "source": [
    "images_train = np.array([load_and_preprocess_image(img) for img in images_train])\n",
    "labels_train = np.array(labels_train, dtype=np.float32)"
   ]
  },
  {
   "cell_type": "code",
   "execution_count": 6,
   "id": "87f4f640-00e6-49ac-b438-248e3635e5b2",
   "metadata": {},
   "outputs": [],
   "source": [
    "datagen = ImageDataGenerator(\n",
    "    rotation_range=20,\n",
    "    width_shift_range=0.2,\n",
    "    height_shift_range=0.2,\n",
    "    shear_range=0.2,\n",
    "    zoom_range=0.2,\n",
    "    horizontal_flip=True,\n",
    "    fill_mode='nearest'\n",
    ")"
   ]
  },
  {
   "cell_type": "code",
   "execution_count": 7,
   "id": "a310e30a-1514-475a-9b44-f437d471db0c",
   "metadata": {},
   "outputs": [],
   "source": [
    "augmented_train_data = []\n",
    "for img, label in zip(images_train, labels_train):\n",
    "    img_array = np.expand_dims(img, axis=0)\n",
    "    augmented_images = [datagen.random_transform(img_array[0]) for _ in range(16)]\n",
    "    augmented_train_data.extend([(augmented_image, label) for augmented_image in augmented_images])"
   ]
  },
  {
   "cell_type": "code",
   "execution_count": 8,
   "id": "aa43582f-b753-4cf8-94eb-0378983a566e",
   "metadata": {},
   "outputs": [],
   "source": [
    "augmented_train_data = np.array(augmented_train_data, dtype=object)\n",
    "images_train_augmented, labels_train_augmented = np.stack(augmented_train_data[:, 0]), augmented_train_data[:, 1]"
   ]
  },
  {
   "cell_type": "code",
   "execution_count": 9,
   "id": "d644a0ba-1bea-4287-90fb-789dfbdb4de7",
   "metadata": {},
   "outputs": [],
   "source": [
    "images_train_augmented = images_train_augmented.reshape(-1, 100, 100, 3)"
   ]
  },
  {
   "cell_type": "code",
   "execution_count": 19,
   "id": "8ec9ddc2-f0fd-4d55-9122-efa0cd65f149",
   "metadata": {},
   "outputs": [],
   "source": [
    "model = models.Sequential()\n",
    "model.add(layers.Conv2D(32, (3, 3), activation='relu', input_shape=(100, 100, 3)))\n",
    "model.add(BatchNormalization())\n",
    "model.add(layers.MaxPooling2D((2, 2)))\n",
    "model.add(layers.Conv2D(64, (3, 3), activation='relu'))\n",
    "model.add(BatchNormalization())\n",
    "model.add(layers.MaxPooling2D((2, 2)))\n",
    "model.add(layers.Conv2D(128, (3, 3), activation='relu'))\n",
    "model.add(BatchNormalization())\n",
    "model.add(layers.MaxPooling2D((2, 2)))\n",
    "model.add(layers.Flatten())\n",
    "model.add(Dropout(0.5))\n",
    "model.add(layers.Dense(256, activation='relu'))\n",
    "model.add(BatchNormalization())\n",
    "model.add(Dropout(0.5))\n",
    "model.add(layers.Dense(1, activation='sigmoid'))"
   ]
  },
  {
   "cell_type": "code",
   "execution_count": 31,
   "id": "0def82e4-1a4b-488e-9ded-045d7c75dec1",
   "metadata": {},
   "outputs": [],
   "source": [
    "model.compile(optimizer=RMSprop(learning_rate=0.0001),\n",
    "              loss='binary_crossentropy', \n",
    "              metrics=['accuracy'])"
   ]
  },
  {
   "cell_type": "code",
   "execution_count": 30,
   "id": "8abc033b-301a-40e5-b7e8-3796c1c5baba",
   "metadata": {},
   "outputs": [],
   "source": [
    "augmented_train_data = np.array(augmented_train_data, dtype=object)\n",
    "images_train_augmented = np.array([img[0] for img in augmented_train_data], dtype=np.float32)\n",
    "labels_train_augmented = np.array([label[1] for label in augmented_train_data], dtype=np.float32)\n",
    "callbacks = [\n",
    "    LearningRateScheduler(lr_schedule),\n",
    "    EarlyStopping(monitor='val_loss', patience=5, restore_best_weights=True)\n",
    "]"
   ]
  },
  {
   "cell_type": "code",
   "execution_count": 22,
   "id": "d4db2264-a8bb-4731-a464-7e58669e0493",
   "metadata": {},
   "outputs": [],
   "source": [
    "images_train_augmented = images_train_augmented.reshape(-1, 100, 100, 3)"
   ]
  },
  {
   "cell_type": "code",
   "execution_count": 33,
   "id": "767bfc4b-2e23-4ffd-8c70-25d67b268a3f",
   "metadata": {},
   "outputs": [
    {
     "name": "stdout",
     "output_type": "stream",
     "text": [
      "Epoch 1/30\n",
      "4/4 [==============================] - 1s 260ms/step - loss: 0.0048 - accuracy: 1.0000 - val_loss: 0.7103 - val_accuracy: 0.3846 - lr: 1.0000e-04\n",
      "Epoch 2/30\n",
      "4/4 [==============================] - 1s 218ms/step - loss: 0.0072 - accuracy: 1.0000 - val_loss: 0.6949 - val_accuracy: 0.3846 - lr: 1.0000e-04\n",
      "Epoch 3/30\n",
      "4/4 [==============================] - 1s 209ms/step - loss: 0.0064 - accuracy: 1.0000 - val_loss: 0.7600 - val_accuracy: 0.3846 - lr: 1.0000e-04\n",
      "Epoch 4/30\n",
      "4/4 [==============================] - 1s 213ms/step - loss: 0.0102 - accuracy: 1.0000 - val_loss: 0.8121 - val_accuracy: 0.3846 - lr: 1.0000e-04\n",
      "Epoch 5/30\n",
      "4/4 [==============================] - 1s 198ms/step - loss: 0.0045 - accuracy: 1.0000 - val_loss: 0.8462 - val_accuracy: 0.3846 - lr: 1.0000e-04\n",
      "Epoch 6/30\n",
      "4/4 [==============================] - 1s 204ms/step - loss: 0.0089 - accuracy: 1.0000 - val_loss: 0.7497 - val_accuracy: 0.3846 - lr: 1.0000e-04\n",
      "Epoch 7/30\n",
      "4/4 [==============================] - 1s 203ms/step - loss: 0.0034 - accuracy: 1.0000 - val_loss: 1.1342 - val_accuracy: 0.3846 - lr: 1.0000e-04\n"
     ]
    }
   ],
   "source": [
    "history = model.fit(images_train_augmented, labels_train_augmented, \n",
    "                    epochs=30, batch_size=32, \n",
    "                    validation_split=0.2, callbacks=callbacks)"
   ]
  },
  {
   "cell_type": "code",
   "execution_count": 34,
   "id": "6a1d4d5f-b97a-48b8-9c10-c1dc2f1ceda4",
   "metadata": {},
   "outputs": [
    {
     "name": "stdout",
     "output_type": "stream",
     "text": [
      "1/1 [==============================] - 0s 32ms/step - loss: 0.5619 - accuracy: 0.5000\n",
      "Test Accuracy: 50.00%\n"
     ]
    }
   ],
   "source": [
    "test_loss, test_accuracy = model.evaluate(images_test, labels_test)\n",
    "print(f\"Test Accuracy: {test_accuracy * 100:.2f}%\")"
   ]
  },
  {
   "cell_type": "code",
   "execution_count": 35,
   "id": "d5b6e2d5-9d13-4181-b4ae-b055809eea0e",
   "metadata": {},
   "outputs": [
    {
     "data": {
      "image/png": "[encoded data removed]",
      "text/plain": [
       "<Figure size 640x480 with 1 Axes>"
      ]
     },
     "metadata": {},
     "output_type": "display_data"
    }
   ],
   "source": [
    "import matplotlib.pyplot as plt\n",
    "\n",
    "plt.plot(history.history['accuracy'], label='Training Accuracy')\n",
    "plt.plot(history.history['val_accuracy'], label='Validation Accuracy')\n",
    "plt.xlabel('Epoch')\n",
    "plt.ylabel('Accuracy')\n",
    "plt.legend()\n",
    "plt.show()"
   ]
  },
  {
   "cell_type": "code",
   "execution_count": null,
   "id": "7bb38e15-209e-4c06-8d82-764dc3ed140e",
   "metadata": {},
   "outputs": [],
   "source": []
  }
 ],
 "metadata": {
  "kernelspec": {
   "display_name": "Python 3 (ipykernel)",
   "language": "python",
   "name": "python3"
  },
  "language_info": {
   "codemirror_mode": {
    "name": "ipython",
    "version": 3
   },
   "file_extension": ".py",
   "mimetype": "text/x-python",
   "name": "python",
   "nbconvert_exporter": "python",
   "pygments_lexer": "ipython3",
   "version": "3.10.13"
  }
 },
 "nbformat": 4,
 "nbformat_minor": 5
}

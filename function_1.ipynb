{
 "cells": [
  {
   "cell_type": "code",
   "execution_count": 1,
   "id": "5f6a7d17-f854-4f16-b2b1-fcaee08b433f",
   "metadata": {},
   "outputs": [
    {
     "name": "stdout",
     "output_type": "stream",
     "text": [
      "WARNING:tensorflow:From C:\\Users\\Hp\\anaconda3\\envs\\newenv\\Lib\\site-packages\\keras\\src\\losses.py:2976: The name tf.losses.sparse_softmax_cross_entropy is deprecated. Please use tf.compat.v1.losses.sparse_softmax_cross_entropy instead.\n",
      "\n"
     ]
    }
   ],
   "source": [
    "import tensorflow as tf\n",
    "from tensorflow.keras import layers, models\n",
    "from tensorflow.keras.preprocessing.image import ImageDataGenerator"
   ]
  },
  {
   "cell_type": "code",
   "execution_count": 2,
   "id": "c45b8751-f291-4f05-a866-4f52b9a9ddd7",
   "metadata": {},
   "outputs": [],
   "source": [
    "class MyImageClassifier:\n",
    "    def __init__(self):\n",
    "        self.model = self.build_model()\n",
    "        self.loss_object = tf.keras.losses.SparseCategoricalCrossentropy(from_logits=True)\n",
    "        self.optimizer = tf.keras.optimizers.Adam()\n",
    "        self.train_loss = tf.keras.metrics.Mean(name='train_loss')\n",
    "        self.train_accuracy = tf.keras.metrics.SparseCategoricalAccuracy(name='train_accuracy')\n",
    "        self.test_loss = tf.keras.metrics.Mean(name='test_loss')\n",
    "        self.test_accuracy = tf.keras.metrics.SparseCategoricalAccuracy(name='test_accuracy')\n",
    "\n",
    "    def build_model(self):\n",
    "        model = models.Sequential([\n",
    "            layers.Conv2D(32, (3, 3), activation='relu', input_shape=(256, 256, 3)),\n",
    "            layers.MaxPooling2D((2, 2)),\n",
    "            layers.Conv2D(64, (3, 3), activation='relu'),\n",
    "            layers.MaxPooling2D((2, 2)),\n",
    "            layers.Conv2D(128, (3, 3), activation='relu'),\n",
    "            layers.MaxPooling2D((2, 2)),\n",
    "            layers.Flatten(),\n",
    "            layers.Dense(128, activation='relu'),\n",
    "            layers.Dense(2)  # Adjust the number of units based on your classes\n",
    "        ])\n",
    "\n",
    "        return model"
   ]
  },
  {
   "cell_type": "code",
   "execution_count": 6,
   "id": "7e2711d1-3f30-43f6-9945-2c9122093a60",
   "metadata": {},
   "outputs": [],
   "source": [
    "@tf.function\n",
    "def train_step(self, images, labels):\n",
    "    with tf.GradientTape() as tape:\n",
    "        predictions = self.model(images, training=True)\n",
    "        loss = self.loss_object(labels, predictions)\n",
    "    gradients = tape.gradient(loss, self.model.trainable_variables)\n",
    "    self.optimizer.apply_gradients(zip(gradients, self.model.trainable_variables))\n",
    "\n",
    "    self.train_loss(loss)\n",
    "    self.train_accuracy(labels, predictions)"
   ]
  },
  {
   "cell_type": "code",
   "execution_count": 7,
   "id": "b1aad3e2-7d66-4f3f-9df7-cc2ecf0494ae",
   "metadata": {},
   "outputs": [],
   "source": [
    "@tf.function\n",
    "def test_step(self, images, labels):\n",
    "    predictions = self.model(images, training=False)\n",
    "    t_loss = self.loss_object(labels, predictions)\n",
    "\n",
    "    self.test_loss(t_loss)\n",
    "    self.test_accuracy(labels, predictions)\n"
   ]
  },
  {
   "cell_type": "code",
   "execution_count": 8,
   "id": "bda77bb2-a9a1-41f6-8cd0-5492e71f5ec9",
   "metadata": {},
   "outputs": [],
   "source": [
    "train_directory = r'C:\\Users\\Hp\\Downloads\\VW_AI\\dataset\\train'\n",
    "validation_directory = r'C:\\Users\\Hp\\Downloads\\VW_AI\\dataset\\validation'"
   ]
  },
  {
   "cell_type": "code",
   "execution_count": 9,
   "id": "cad65af0-0665-42a1-bf22-5c173dccc52b",
   "metadata": {},
   "outputs": [
    {
     "name": "stdout",
     "output_type": "stream",
     "text": [
      "Found 8 images belonging to 2 classes.\n"
     ]
    }
   ],
   "source": [
    "train_datagen = ImageDataGenerator(rescale=1./255)\n",
    "train_dataset = train_datagen.flow_from_directory(\n",
    "    train_directory,\n",
    "    target_size=(256, 256),\n",
    "    batch_size=32,\n",
    "    class_mode='binary'  # Change to 'categorical' if you have more than two classes\n",
    ")"
   ]
  },
  {
   "cell_type": "code",
   "execution_count": 10,
   "id": "9965321a-f6a5-4d96-a2b5-cfc981ea66cb",
   "metadata": {},
   "outputs": [
    {
     "name": "stdout",
     "output_type": "stream",
     "text": [
      "Found 8 images belonging to 2 classes.\n"
     ]
    }
   ],
   "source": [
    "test_datagen = ImageDataGenerator(rescale=1./255)\n",
    "test_dataset = test_datagen.flow_from_directory(\n",
    "    validation_directory,\n",
    "    target_size=(256, 256),\n",
    "    batch_size=32,\n",
    "    class_mode='binary'  # Change to 'categorical' if you have more than two classes\n",
    ")"
   ]
  },
  {
   "cell_type": "code",
   "execution_count": 11,
   "id": "c7db8438-99ff-4b8b-854f-84fc9fa44ed2",
   "metadata": {},
   "outputs": [
    {
     "name": "stdout",
     "output_type": "stream",
     "text": [
      "WARNING:tensorflow:From C:\\Users\\Hp\\anaconda3\\envs\\newenv\\Lib\\site-packages\\keras\\src\\backend.py:873: The name tf.get_default_graph is deprecated. Please use tf.compat.v1.get_default_graph instead.\n",
      "\n",
      "WARNING:tensorflow:From C:\\Users\\Hp\\anaconda3\\envs\\newenv\\Lib\\site-packages\\keras\\src\\layers\\pooling\\max_pooling2d.py:161: The name tf.nn.max_pool is deprecated. Please use tf.nn.max_pool2d instead.\n",
      "\n"
     ]
    }
   ],
   "source": [
    "classifier = MyImageClassifier()"
   ]
  },
  {
   "cell_type": "code",
   "execution_count": 13,
   "id": "cb06d9c9-447e-4571-82ef-05c2c1911f4e",
   "metadata": {},
   "outputs": [],
   "source": [
    "def train_model(self, train_dataset, test_dataset, epochs=5):\n",
    "    for epoch in range(epochs):\n",
    "        self.train_loss.reset_states()\n",
    "        self.train_accuracy.reset_states()\n",
    "        self.test_loss.reset_states()\n",
    "        self.test_accuracy.reset_states()\n",
    "\n",
    "        for images, labels in train_dataset:\n",
    "            self.train_step(images, labels)\n",
    "\n",
    "        for test_images, test_labels in test_dataset:\n",
    "            self.test_step(test_images, test_labels)\n",
    "\n",
    "        print(\n",
    "            f'Epoch {epoch + 1}, '\n",
    "            f'Loss: {self.train_loss.result()}, '\n",
    "            f'Accuracy: {self.train_accuracy.result() * 100}, '\n",
    "            f'Test Loss: {self.test_loss.result()}, '\n",
    "            f'Test Accuracy: {self.test_accuracy.result() * 100}'\n",
    "        )\n"
   ]
  },
  {
   "cell_type": "code",
   "execution_count": 14,
   "id": "137e7c36-0323-45c6-93d0-8826295c98be",
   "metadata": {
    "scrolled": true
   },
   "outputs": [
    {
     "ename": "AttributeError",
     "evalue": "'MyImageClassifier' object has no attribute 'train_model'",
     "output_type": "error",
     "traceback": [
      "\u001b[1;31m---------------------------------------------------------------------------\u001b[0m",
      "\u001b[1;31mAttributeError\u001b[0m                            Traceback (most recent call last)",
      "Cell \u001b[1;32mIn[14], line 1\u001b[0m\n\u001b[1;32m----> 1\u001b[0m classifier\u001b[38;5;241m.\u001b[39mtrain_model(train_dataset, test_dataset, epochs\u001b[38;5;241m=\u001b[39m\u001b[38;5;241m5\u001b[39m)\n",
      "\u001b[1;31mAttributeError\u001b[0m: 'MyImageClassifier' object has no attribute 'train_model'"
     ]
    }
   ],
   "source": [
    "classifier.train_model(train_dataset, test_dataset, epochs=5)"
   ]
  },
  {
   "cell_type": "code",
   "execution_count": null,
   "id": "cb651127-799f-4619-872c-a9e5cd12d07b",
   "metadata": {},
   "outputs": [],
   "source": []
  }
 ],
 "metadata": {
  "kernelspec": {
   "display_name": "Python 3 (ipykernel)",
   "language": "python",
   "name": "python3"
  },
  "language_info": {
   "codemirror_mode": {
    "name": "ipython",
    "version": 3
   },
   "file_extension": ".py",
   "mimetype": "text/x-python",
   "name": "python",
   "nbconvert_exporter": "python",
   "pygments_lexer": "ipython3",
   "version": "3.11.7"
  }
 },
 "nbformat": 4,
 "nbformat_minor": 5
}

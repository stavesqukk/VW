{
 "cells": [
  {
   "cell_type": "code",
   "execution_count": null,
   "id": "c155b161-9bfc-48f8-bf39-59d9095fb953",
   "metadata": {},
   "outputs": [],
   "source": [
    "import numpy as np\n",
    "from PIL import Image\n",
    "from sklearn.model_selection import train_test_split\n",
    "import tensorflow as tf\n",
    "from tensorflow.keras.preprocessing.image import ImageDataGenerator\n",
    "from tensorflow.keras import layers, models\n",
    "from tensorflow.keras.optimizers import Adam\n",
    "from tensorflow.keras.callbacks import EarlyStopping, LearningRateScheduler\n",
    "from tensorflow.keras.applications import VGG16\n",
    "from tensorflow.keras.applications.vgg16 import preprocess_input"
   ]
  },
  {
   "cell_type": "code",
   "execution_count": null,
   "id": "b95ea90d-b70e-4655-93af-ffac78d62254",
   "metadata": {},
   "outputs": [],
   "source": [
    "def load_and_preprocess_image(img_path):\n",
    "    image = np.array(Image.open(img_path).resize((224, 224))) / 255.0\n",
    "    return image\n",
    "\n",
    "def lr_schedule(epoch):\n",
    "    lr = 0.0001\n",
    "    if epoch > 10:\n",
    "        lr *= 0.1\n",
    "    elif epoch > 20:\n",
    "        lr *= 0.01\n",
    "    return lr"
   ]
  },
  {
   "cell_type": "code",
   "execution_count": null,
   "id": "ec5fddb3-5284-49e6-a62f-f95f2fc9ba78",
   "metadata": {},
   "outputs": [],
   "source": [
    "tops_images = [\"Womens Surrealistic Themes Funny Summer Plus Size T-Shirts - 2 _ L.jpg\", \"Mens Astronaut Shooting Cartoon Print Crew Neck Short Sleeve T-Shirts - Khaki _ XL.jpg\",\n",
    "               \"T-shirt Women Funny Cartoon Short Sleeve Streetwear - FuD 4127 bai _ M.jpg\", \"Breathable Solid Color round Neck Short Sleeve Cotton T-Shirts.jpg\",\n",
    "               \"Vossiy Graphic Tees Men Fashion Print T-Shirts Unisex Cotton Tee Hipster Casual Streetwear Loose Summer Tee Top.jpg\"]\n",
    "\n",
    "bottoms_images = [\"download (1).jpg\",\"Women's Designer Denim _ Moda Operandi.jpg\",\"Designer Wide-Leg Jeans for Women.jpg\",\"Jacquemus Fashion Collections For Women _ Moda Operandi.jpg\",\n",
    "                 \"download.jpg\"]"
   ]
  },
  {
   "cell_type": "code",
   "execution_count": null,
   "id": "308a77cf-4718-461c-a477-0bb81faf5ed8",
   "metadata": {},
   "outputs": [],
   "source": [
    "labels = [0] * len(tops_images) + [1] * len(bottoms_images)\n",
    "images_train, images_test, labels_train, labels_test = train_test_split(\n",
    "    tops_images + bottoms_images, labels, test_size=0.2, random_state=42\n",
    ")"
   ]
  },
  {
   "cell_type": "code",
   "execution_count": null,
   "id": "91c6327b-47da-4f67-b914-b9e476903495",
   "metadata": {},
   "outputs": [],
   "source": [
    "datagen = ImageDataGenerator(\n",
    "    rotation_range=30,\n",
    "    width_shift_range=0.2,\n",
    "    height_shift_range=0.2,\n",
    "    shear_range=0.2,\n",
    "    zoom_range=0.2,\n",
    "    horizontal_flip=True,\n",
    "    fill_mode='nearest'\n",
    ")"
   ]
  },
  {
   "cell_type": "code",
   "execution_count": null,
   "id": "c35478c8-dbec-4ba6-9b61-5d89f6cad5fd",
   "metadata": {},
   "outputs": [],
   "source": [
    "images_train = np.array([load_and_preprocess_image(img) for img in images_train])\n",
    "labels_train = np.array(labels_train, dtype=np.float32)"
   ]
  },
  {
   "cell_type": "code",
   "execution_count": null,
   "id": "fc306270-7d6d-4f45-8c10-bb059190e074",
   "metadata": {},
   "outputs": [],
   "source": [
    "augmented_train_data = []\n",
    "for img, label in zip(images_train, labels_train):\n",
    "    img_array = np.expand_dims(img, axis=0)\n",
    "    augmented_images = [datagen.random_transform(img_array[0]) for _ in range(32)]\n",
    "    augmented_train_data.extend([(augmented_image, label) for augmented_image in augmented_images])"
   ]
  },
  {
   "cell_type": "code",
   "execution_count": null,
   "id": "e3ca9e5c-6272-4318-b9c4-6023935853f5",
   "metadata": {},
   "outputs": [],
   "source": [
    "augmented_train_data = np.array(augmented_train_data, dtype=object)\n",
    "images_train_augmented, labels_train_augmented = np.stack(augmented_train_data[:, 0]), augmented_train_data[:, 1]\n",
    "images_train_augmented = images_train_augmented.reshape(-1, 224, 224, 3)"
   ]
  },
  {
   "cell_type": "code",
   "execution_count": null,
   "id": "7c4a814b-7908-40dc-8533-5cd1360d4ee9",
   "metadata": {},
   "outputs": [],
   "source": [
    "base_model = VGG16(input_shape=(224, 224, 3), include_top=False, weights='imagenet')\n",
    "base_model.trainable = False  # Freeze the pre-trained weights\n",
    "\n",
    "model = models.Sequential([\n",
    "    base_model,\n",
    "    layers.GlobalAveragePooling2D(),\n",
    "    layers.Dropout(0.5),\n",
    "    layers.Dense(256, activation='relu'),\n",
    "    layers.BatchNormalization(),\n",
    "    layers.Dropout(0.5),\n",
    "    layers.Dense(1, activation='sigmoid')\n",
    "])"
   ]
  },
  {
   "cell_type": "code",
   "execution_count": null,
   "id": "0cd214e9-c867-4cba-98d7-f037dcf52ccd",
   "metadata": {},
   "outputs": [],
   "source": [
    "model.compile(optimizer=Adam(learning_rate=0.0001), \n",
    "              loss='binary_crossentropy', \n",
    "              metrics=['accuracy'])"
   ]
  },
  {
   "cell_type": "code",
   "execution_count": null,
   "id": "f49a9bd0-3c71-4d04-a3f7-473b3019333e",
   "metadata": {},
   "outputs": [],
   "source": [
    "labels_train_augmented = np.array(labels_train_augmented, dtype=np.float32)\n",
    "labels_train_augmented = np.array(labels_train_augmented, dtype=int)\n",
    "callbacks = [\n",
    "    EarlyStopping(monitor='val_loss', patience=10, restore_best_weights=True),\n",
    "    LearningRateScheduler(lr_schedule)\n",
    "]"
   ]
  },
  {
   "cell_type": "code",
   "execution_count": null,
   "id": "e9368aea-6976-4132-8972-469bb4754e77",
   "metadata": {},
   "outputs": [],
   "source": [
    "history = model.fit(images_train_augmented, labels_train_augmented, \n",
    "                    epochs=50, batch_size=32, \n",
    "                    validation_split=0.2, callbacks=callbacks)"
   ]
  },
  {
   "cell_type": "code",
   "execution_count": null,
   "id": "00b298d9-e891-4fa4-b61f-89edd20882cd",
   "metadata": {},
   "outputs": [],
   "source": [
    "images_test = np.array([load_and_preprocess_image(img) for img in images_test])\n",
    "labels_test = np.array(labels_test, dtype=np.float32)"
   ]
  },
  {
   "cell_type": "code",
   "execution_count": null,
   "id": "c46b2f86-71f1-484d-bfad-662648e73e74",
   "metadata": {},
   "outputs": [],
   "source": [
    "test_loss, test_accuracy = model.evaluate(images_test, labels_test)\n",
    "print(f\"Test Accuracy: {test_accuracy * 100:.2f}%\")"
   ]
  },
  {
   "cell_type": "code",
   "execution_count": null,
   "id": "d21c9be0-0708-4f75-9e50-a7ebbde73393",
   "metadata": {},
   "outputs": [],
   "source": []
  }
 ],
 "metadata": {
  "kernelspec": {
   "display_name": "Python 3 (ipykernel)",
   "language": "python",
   "name": "python3"
  },
  "language_info": {
   "codemirror_mode": {
    "name": "ipython",
    "version": 3
   },
   "file_extension": ".py",
   "mimetype": "text/x-python",
   "name": "python",
   "nbconvert_exporter": "python",
   "pygments_lexer": "ipython3",
   "version": "3.10.13"
  }
 },
 "nbformat": 4,
 "nbformat_minor": 5
}

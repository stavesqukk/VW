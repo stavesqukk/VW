{
 "cells": [
  {
   "cell_type": "code",
   "execution_count": 1,
   "id": "10ce25a2-6d20-48c4-bd8a-c7d9c60e78aa",
   "metadata": {},
   "outputs": [
    {
     "name": "stdout",
     "output_type": "stream",
     "text": [
      "WARNING:tensorflow:From C:\\Users\\Hp\\anaconda3\\envs\\newenv\\Lib\\site-packages\\keras\\src\\losses.py:2976: The name tf.losses.sparse_softmax_cross_entropy is deprecated. Please use tf.compat.v1.losses.sparse_softmax_cross_entropy instead.\n",
      "\n"
     ]
    }
   ],
   "source": [
    "import tensorflow as tf\n",
    "from tensorflow.keras import layers, models\n",
    "from tensorflow.keras.optimizers import Adam\n",
    "from tensorflow.keras.preprocessing.image import ImageDataGenerator\n",
    "import matplotlib.pyplot as plt"
   ]
  },
  {
   "cell_type": "code",
   "execution_count": 2,
   "id": "5e387c13-df27-4b63-9f35-42e860fd1dbf",
   "metadata": {},
   "outputs": [],
   "source": [
    "dataset_path = r'C:\\Users\\Hp\\Downloads\\VW_AI\\dataset'"
   ]
  },
  {
   "cell_type": "code",
   "execution_count": 3,
   "id": "5d8181d5-d8de-4c54-b5f8-9279f65b71e6",
   "metadata": {},
   "outputs": [],
   "source": [
    "img_size = (150, 150)\n",
    "batch_size = 32"
   ]
  },
  {
   "cell_type": "code",
   "execution_count": 4,
   "id": "7cd31041-85e5-496a-993f-ace113faac31",
   "metadata": {},
   "outputs": [
    {
     "name": "stdout",
     "output_type": "stream",
     "text": [
      "Found 8 images belonging to 2 classes.\n"
     ]
    }
   ],
   "source": [
    "train_datagen = ImageDataGenerator(\n",
    "    rescale=1./255,\n",
    "    rotation_range=20,\n",
    "    width_shift_range=0.2,\n",
    "    height_shift_range=0.2,\n",
    "    shear_range=0.2,\n",
    "    zoom_range=0.2,\n",
    "    horizontal_flip=True\n",
    ")\n",
    "\n",
    "train_generator = train_datagen.flow_from_directory(\n",
    "    dataset_path + '\\\\train\\\\',\n",
    "    target_size=img_size,\n",
    "    batch_size=batch_size,\n",
    "    class_mode='categorical'\n",
    ")"
   ]
  },
  {
   "cell_type": "code",
   "execution_count": 5,
   "id": "4b22b21f-a1a6-4211-a8e1-790b3887409a",
   "metadata": {},
   "outputs": [
    {
     "name": "stdout",
     "output_type": "stream",
     "text": [
      "Found 8 images belonging to 2 classes.\n"
     ]
    }
   ],
   "source": [
    "val_datagen = ImageDataGenerator(rescale=1./255)\n",
    "\n",
    "val_generator = val_datagen.flow_from_directory(\n",
    "    dataset_path + '\\\\validation\\\\',\n",
    "    target_size=img_size,\n",
    "    batch_size=batch_size,\n",
    "    class_mode='categorical'\n",
    ")"
   ]
  },
  {
   "cell_type": "code",
   "execution_count": 7,
   "id": "33b1cb60-50d6-44df-aa57-a6975d801a9b",
   "metadata": {},
   "outputs": [],
   "source": [
    "model = models.Sequential()\n",
    "model.add(layers.Conv2D(32, (3, 3), activation='relu', input_shape=(img_size[0], img_size[1], 3)))\n",
    "model.add(layers.MaxPooling2D((2, 2)))\n",
    "\n",
    "model.add(layers.Conv2D(64, (3, 3), activation='relu'))\n",
    "model.add(layers.MaxPooling2D((2, 2)))\n",
    "\n",
    "model.add(layers.Conv2D(128, (3, 3), activation='relu'))\n",
    "model.add(layers.MaxPooling2D((2, 2)))\n",
    "\n",
    "model.add(layers.Flatten())\n",
    "model.add(layers.Dense(512, activation='relu'))\n",
    "model.add(layers.Dropout(0.5))\n",
    "model.add(layers.Dense(2, activation='softmax'))\n",
    "\n",
    "opt = Adam(learning_rate=0.0001)\n",
    "model.compile(optimizer=opt, loss='categorical_crossentropy', metrics=['accuracy'])"
   ]
  },
  {
   "cell_type": "code",
   "execution_count": 8,
   "id": "27dafa91-6298-4ad9-a53b-06cdca9bb6f7",
   "metadata": {},
   "outputs": [
    {
     "name": "stdout",
     "output_type": "stream",
     "text": [
      "Epoch 1/15\n",
      "WARNING:tensorflow:From C:\\Users\\Hp\\anaconda3\\envs\\newenv\\Lib\\site-packages\\keras\\src\\utils\\tf_utils.py:492: The name tf.ragged.RaggedTensorValue is deprecated. Please use tf.compat.v1.ragged.RaggedTensorValue instead.\n",
      "\n",
      "WARNING:tensorflow:From C:\\Users\\Hp\\anaconda3\\envs\\newenv\\Lib\\site-packages\\keras\\src\\engine\\base_layer_utils.py:384: The name tf.executing_eagerly_outside_functions is deprecated. Please use tf.compat.v1.executing_eagerly_outside_functions instead.\n",
      "\n",
      "1/1 [==============================] - 4s 4s/step - loss: 0.7312 - accuracy: 0.3750 - val_loss: 0.7550 - val_accuracy: 0.5000\n",
      "Epoch 2/15\n",
      "1/1 [==============================] - 1s 781ms/step - loss: 0.7728 - accuracy: 0.5000 - val_loss: 0.6682 - val_accuracy: 0.6250\n",
      "Epoch 3/15\n",
      "1/1 [==============================] - 1s 844ms/step - loss: 0.8262 - accuracy: 0.2500 - val_loss: 0.6738 - val_accuracy: 0.5000\n",
      "Epoch 4/15\n",
      "1/1 [==============================] - 1s 690ms/step - loss: 0.7524 - accuracy: 0.1250 - val_loss: 0.6790 - val_accuracy: 0.5000\n",
      "Epoch 5/15\n",
      "1/1 [==============================] - 1s 935ms/step - loss: 0.9219 - accuracy: 0.5000 - val_loss: 0.6381 - val_accuracy: 0.5000\n",
      "Epoch 6/15\n",
      "1/1 [==============================] - 1s 684ms/step - loss: 0.6903 - accuracy: 0.6250 - val_loss: 0.6239 - val_accuracy: 0.7500\n",
      "Epoch 7/15\n",
      "1/1 [==============================] - 1s 920ms/step - loss: 0.8539 - accuracy: 0.3750 - val_loss: 0.6270 - val_accuracy: 0.8750\n",
      "Epoch 8/15\n",
      "1/1 [==============================] - 1s 926ms/step - loss: 0.5989 - accuracy: 0.7500 - val_loss: 0.6239 - val_accuracy: 0.8750\n",
      "Epoch 9/15\n",
      "1/1 [==============================] - 1s 943ms/step - loss: 0.5453 - accuracy: 0.7500 - val_loss: 0.6140 - val_accuracy: 0.7500\n",
      "Epoch 10/15\n",
      "1/1 [==============================] - 1s 929ms/step - loss: 0.6222 - accuracy: 0.7500 - val_loss: 0.6173 - val_accuracy: 0.7500\n",
      "Epoch 11/15\n",
      "1/1 [==============================] - 1s 930ms/step - loss: 0.6146 - accuracy: 0.5000 - val_loss: 0.6243 - val_accuracy: 0.6250\n",
      "Epoch 12/15\n",
      "1/1 [==============================] - 1s 912ms/step - loss: 0.4437 - accuracy: 0.8750 - val_loss: 0.6349 - val_accuracy: 0.5000\n",
      "Epoch 13/15\n",
      "1/1 [==============================] - 1s 944ms/step - loss: 0.5301 - accuracy: 0.8750 - val_loss: 0.6366 - val_accuracy: 0.5000\n",
      "Epoch 14/15\n",
      "1/1 [==============================] - 1s 917ms/step - loss: 0.7082 - accuracy: 0.5000 - val_loss: 0.6226 - val_accuracy: 0.7500\n",
      "Epoch 15/15\n",
      "1/1 [==============================] - 1s 926ms/step - loss: 0.7466 - accuracy: 0.5000 - val_loss: 0.6166 - val_accuracy: 0.7500\n"
     ]
    }
   ],
   "source": [
    "history = model.fit(\n",
    "    train_generator,\n",
    "    steps_per_epoch=len(train_generator),\n",
    "    epochs=15,\n",
    "    validation_data=val_generator,\n",
    "    validation_steps=len(val_generator)\n",
    ")"
   ]
  },
  {
   "cell_type": "code",
   "execution_count": 9,
   "id": "b22cd58a-d5ec-44bd-a00d-bc8f6b4e2da3",
   "metadata": {},
   "outputs": [
    {
     "name": "stdout",
     "output_type": "stream",
     "text": [
      "1/1 [==============================] - 0s 374ms/step - loss: 0.6166 - accuracy: 0.7500\n",
      "Validation Accuracy: 75.00%\n"
     ]
    }
   ],
   "source": [
    "loss, accuracy = model.evaluate(val_generator)\n",
    "print(f\"Validation Accuracy: {accuracy * 100:.2f}%\")"
   ]
  },
  {
   "cell_type": "code",
   "execution_count": 10,
   "id": "ec17f626-073a-4429-8893-41bd5ea54e04",
   "metadata": {},
   "outputs": [
    {
     "data": {
      "image/png": "[encoded data removed]",
      "text/plain": [
       "<Figure size 1200x400 with 2 Axes>"
      ]
     },
     "metadata": {},
     "output_type": "display_data"
    }
   ],
   "source": [
    "acc = history.history['accuracy']\n",
    "val_acc = history.history['val_accuracy']\n",
    "loss = history.history['loss']\n",
    "val_loss = history.history['val_loss']\n",
    "\n",
    "epochs = range(1, len(acc) + 1)\n",
    "\n",
    "plt.figure(figsize=(12, 4))\n",
    "plt.subplot(1, 2, 1)\n",
    "plt.plot(epochs, acc, 'bo', label='Training acc')\n",
    "plt.plot(epochs, val_acc, 'b', label='Validation acc')\n",
    "plt.title('Training and validation accuracy')\n",
    "plt.legend()\n",
    "\n",
    "plt.subplot(1, 2, 2)\n",
    "plt.plot(epochs, loss, 'bo', label='Training loss')\n",
    "plt.plot(epochs, val_loss, 'b', label='Validation loss')\n",
    "plt.title('Training and validation loss')\n",
    "plt.legend()\n",
    "\n",
    "plt.show()"
   ]
  },
  {
   "cell_type": "code",
   "execution_count": null,
   "id": "1907d6b1-4226-47bb-b957-d736469fef71",
   "metadata": {},
   "outputs": [],
   "source": []
  }
 ],
 "metadata": {
  "kernelspec": {
   "display_name": "Python 3 (ipykernel)",
   "language": "python",
   "name": "python3"
  },
  "language_info": {
   "codemirror_mode": {
    "name": "ipython",
    "version": 3
   },
   "file_extension": ".py",
   "mimetype": "text/x-python",
   "name": "python",
   "nbconvert_exporter": "python",
   "pygments_lexer": "ipython3",
   "version": "3.11.7"
  }
 },
 "nbformat": 4,
 "nbformat_minor": 5
}
